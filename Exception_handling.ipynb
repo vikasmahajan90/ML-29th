{
  "nbformat": 4,
  "nbformat_minor": 0,
  "metadata": {
    "colab": {
      "name": "Exception_handling.ipynb",
      "provenance": [],
      "authorship_tag": "ABX9TyNQWPy1royue+ukAAmw8CHl",
      "include_colab_link": true
    },
    "kernelspec": {
      "name": "python3",
      "display_name": "Python 3"
    }
  },
  "cells": [
    {
      "cell_type": "markdown",
      "metadata": {
        "id": "view-in-github",
        "colab_type": "text"
      },
      "source": [
        "<a href=\"https://colab.research.google.com/github/vikasmahajan90/ML-29th/blob/master/Exception_handling.ipynb\" target=\"_parent\"><img src=\"https://colab.research.google.com/assets/colab-badge.svg\" alt=\"Open In Colab\"/></a>"
      ]
    },
    {
      "cell_type": "code",
      "metadata": {
        "id": "y0XPdSfsfBb1",
        "colab_type": "code",
        "colab": {
          "base_uri": "https://localhost:8080/",
          "height": 33
        },
        "outputId": "d5b1da99-d173-4d36-b432-fc41670b430c"
      },
      "source": [
        "a,b = 5,0\n",
        "try:\n",
        "    a/b\n",
        "except ZeroDivisionError:\n",
        "    print(\"Divide by zero.\")"
      ],
      "execution_count": 3,
      "outputs": [
        {
          "output_type": "stream",
          "text": [
            "Divide by zero.\n"
          ],
          "name": "stdout"
        }
      ]
    },
    {
      "cell_type": "code",
      "metadata": {
        "id": "iVB6lmEYfGMs",
        "colab_type": "code",
        "colab": {
          "base_uri": "https://localhost:8080/",
          "height": 150
        },
        "outputId": "2e2c870b-34d0-4440-9e12-fe148edc5115"
      },
      "source": [
        "subjects = [\"Americans\",\"Indians\"]\n",
        "verbs = [\"play\",\"watch\"]\n",
        "objects = [\"Baseball\",\"Cricket\"]\n",
        "\n",
        "[ s+\" \"+v+\" \"+o+\".\" for s in subjects for v in verbs for o in objects] "
      ],
      "execution_count": 5,
      "outputs": [
        {
          "output_type": "execute_result",
          "data": {
            "text/plain": [
              "['Americans play Baseball.',\n",
              " 'Americans play Cricket.',\n",
              " 'Americans watch Baseball.',\n",
              " 'Americans watch Cricket.',\n",
              " 'Indians play Baseball.',\n",
              " 'Indians play Cricket.',\n",
              " 'Indians watch Baseball.',\n",
              " 'Indians watch Cricket.']"
            ]
          },
          "metadata": {
            "tags": []
          },
          "execution_count": 5
        }
      ]
    }
  ]
}