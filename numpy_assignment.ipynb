{
  "nbformat": 4,
  "nbformat_minor": 0,
  "metadata": {
    "colab": {
      "name": "numpy_assignment.ipynb",
      "provenance": [],
      "collapsed_sections": [],
      "authorship_tag": "ABX9TyM7v3/+ITVSf0XjRU65Uo3B",
      "include_colab_link": true
    },
    "kernelspec": {
      "name": "python3",
      "display_name": "Python 3"
    }
  },
  "cells": [
    {
      "cell_type": "markdown",
      "metadata": {
        "id": "view-in-github",
        "colab_type": "text"
      },
      "source": [
        "<a href=\"https://colab.research.google.com/github/vikasmahajan90/ML-29th/blob/master/numpy_assignment.ipynb\" target=\"_parent\"><img src=\"https://colab.research.google.com/assets/colab-badge.svg\" alt=\"Open In Colab\"/></a>"
      ]
    },
    {
      "cell_type": "code",
      "metadata": {
        "id": "JnF_0GJn2GAG",
        "colab_type": "code",
        "colab": {
          "base_uri": "https://localhost:8080/",
          "height": 300
        },
        "outputId": "6fb7ece6-e124-4a8a-f3a7-00d5a9c878b3"
      },
      "source": [
        "input=np.array([1,2,3,4])\n",
        "def generate_matrix(input, n,increasing=False):\n",
        "    if increasing:\n",
        "        return np.array([ x**i for x in input for i in range(n)]).reshape(input.size,n)\n",
        "    else:\n",
        "        return np.array([ x**(n-1-i) for x in input for i in range(n)]).reshape(input.size,n)\n",
        "print(\"============With List Comprehension==========\")\n",
        "print(generate_matrix(input, 3,True))\n",
        "print(generate_matrix(input, 3,False))\n",
        "# ====================================================\n",
        "\n",
        "def generate_matrix_loop(input,n,increasing=False):\n",
        "    arr=[]\n",
        "    for x in input:\n",
        "        for i in range(n):\n",
        "            if increasing:\n",
        "                arr.append(x**i)\n",
        "            else:\n",
        "                arr.append(x**(n-1-i))\n",
        "    return np.array(arr).reshape(input.size,n)\n",
        "print(\"============With Loop==========\")\n",
        "print(generate_matrix_loop(input, 3,True))\n",
        "print(generate_matrix_loop(input, 3,False))"
      ],
      "execution_count": 27,
      "outputs": [
        {
          "output_type": "stream",
          "text": [
            "[[ 1  1  1]\n",
            " [ 1  2  4]\n",
            " [ 1  3  9]\n",
            " [ 1  4 16]]\n",
            "[[ 1  1  1]\n",
            " [ 4  2  1]\n",
            " [ 9  3  1]\n",
            " [16  4  1]]\n",
            "============With Loop==========\n",
            "[[ 1  1  1]\n",
            " [ 1  2  4]\n",
            " [ 1  3  9]\n",
            " [ 1  4 16]]\n",
            "[[ 1  1  1]\n",
            " [ 4  2  1]\n",
            " [ 9  3  1]\n",
            " [16  4  1]]\n"
          ],
          "name": "stdout"
        }
      ]
    },
    {
      "cell_type": "code",
      "metadata": {
        "id": "8fQJrdJN84Xv",
        "colab_type": "code",
        "colab": {
          "base_uri": "https://localhost:8080/",
          "height": 33
        },
        "outputId": "ee8587cd-684e-4712-b92c-5f80c8b335c7"
      },
      "source": [
        ""
      ],
      "execution_count": 35,
      "outputs": [
        {
          "output_type": "execute_result",
          "data": {
            "text/plain": [
              "6"
            ]
          },
          "metadata": {
            "tags": []
          },
          "execution_count": 35
        }
      ]
    },
    {
      "cell_type": "code",
      "metadata": {
        "id": "LnDHNgef72Ql",
        "colab_type": "code",
        "colab": {
          "base_uri": "https://localhost:8080/",
          "height": 200
        },
        "outputId": "49a2b551-8720-4290-c6dc-24337dc7047b"
      },
      "source": [
        "# [3, 5, 7, 2, 8, 10, 11, 65, 72, 81, 99, 100, 150] and window of 3.\n",
        "input=[3, 5, 7, 2, 8, 10, 11, 65, 72, 81, 99, 100, 150]\n",
        "k=3\n",
        "move=len(input)+1-k\n",
        "[sum(input[i:k+i])/k for i in range(move) ]"
      ],
      "execution_count": 41,
      "outputs": [
        {
          "output_type": "execute_result",
          "data": {
            "text/plain": [
              "[5.0,\n",
              " 4.666666666666667,\n",
              " 5.666666666666667,\n",
              " 6.666666666666667,\n",
              " 9.666666666666666,\n",
              " 28.666666666666668,\n",
              " 49.333333333333336,\n",
              " 72.66666666666667,\n",
              " 84.0,\n",
              " 93.33333333333333,\n",
              " 116.33333333333333]"
            ]
          },
          "metadata": {
            "tags": []
          },
          "execution_count": 41
        }
      ]
    }
  ]
}